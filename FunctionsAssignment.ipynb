{
 "cells": [
  {
   "cell_type": "code",
   "execution_count": 1,
   "id": "50cdacb3-320d-4f69-b947-95d6ea492e96",
   "metadata": {},
   "outputs": [],
   "source": [
    "# Create a class and function, and list out the items in the list"
   ]
  },
  {
   "cell_type": "code",
   "execution_count": 2,
   "id": "6bd50289-ae5d-4399-bb7d-44a215d8795e",
   "metadata": {},
   "outputs": [],
   "source": [
    "class SubfieldsInAI:\n",
    "    def Subfields():\n",
    "        a =['Machine Learning','Neural Networks','Vision','Robotics','Speech Processing','Natural Language Processing']\n",
    "        print(\"Sub-fields in AI are:\")\n",
    "        for val in a:\n",
    "            print(val)"
   ]
  },
  {
   "cell_type": "code",
   "execution_count": 3,
   "id": "4b1efee6-225f-4b04-b277-f97d5e1c04fb",
   "metadata": {},
   "outputs": [
    {
     "name": "stdout",
     "output_type": "stream",
     "text": [
      "Sub-fields in AI are:\n",
      "Machine Learning\n",
      "Neural Networks\n",
      "Vision\n",
      "Robotics\n",
      "Speech Processing\n",
      "Natural Language Processing\n"
     ]
    }
   ],
   "source": [
    "SubfieldsInAI.Subfields()"
   ]
  },
  {
   "cell_type": "code",
   "execution_count": 4,
   "id": "4b97102b-1c49-4182-b812-1fa543b68862",
   "metadata": {},
   "outputs": [],
   "source": [
    "# Create a function that checks whether the given number is Odd or Even"
   ]
  },
  {
   "cell_type": "code",
   "execution_count": 5,
   "id": "53c0fd35-be24-4cc4-aeee-e41bfad4e49a",
   "metadata": {},
   "outputs": [],
   "source": [
    "def OddEven():\n",
    "    num= int(input(\"Enter a number:\" ))\n",
    "    if(num%2==1):\n",
    "        print(num ,\"is  Odd number\")\n",
    "    else:\n",
    "        print(num, \"is  Even number\")\n",
    "        "
   ]
  },
  {
   "cell_type": "code",
   "execution_count": 6,
   "id": "4e50a03a-e489-4639-bdb1-b3df0c0fa11b",
   "metadata": {},
   "outputs": [
    {
     "name": "stdin",
     "output_type": "stream",
     "text": [
      "Enter a number: 3\n"
     ]
    },
    {
     "name": "stdout",
     "output_type": "stream",
     "text": [
      "3 is  Odd number\n"
     ]
    }
   ],
   "source": [
    "OddEven()"
   ]
  },
  {
   "cell_type": "code",
   "execution_count": 7,
   "id": "2e1d05d5-ef04-42ec-b8f2-6b3981812d38",
   "metadata": {},
   "outputs": [],
   "source": [
    "# Create a function that tells elegibility of marriage for male and female according to their age limit like 21 for male and 18 for female"
   ]
  },
  {
   "cell_type": "code",
   "execution_count": 8,
   "id": "86cf1fbc-838b-40bc-a439-3dcb6b0a59d1",
   "metadata": {},
   "outputs": [],
   "source": [
    "def Elegible():\n",
    "    gender=input(\"Your Gender :\")\n",
    "    age =int(input(\"Your Age: \"))\n",
    "    gender_List =['Male','male','Female','female']\n",
    "    for a in gender_List:\n",
    "        if((gender in gender_List) and (age>=21)):\n",
    "             print(\"ELIGIBLE\")\n",
    "             break\n",
    "    else:\n",
    "             print(\"NOT ELIGIBLE\")\n",
    "    "
   ]
  },
  {
   "cell_type": "code",
   "execution_count": 9,
   "id": "026cdfda-c9b1-4931-8122-d979f205c31a",
   "metadata": {},
   "outputs": [
    {
     "name": "stdin",
     "output_type": "stream",
     "text": [
      "Your Gender : male\n",
      "Your Age:  21\n"
     ]
    },
    {
     "name": "stdout",
     "output_type": "stream",
     "text": [
      "ELIGIBLE\n"
     ]
    }
   ],
   "source": [
    "Elegible()"
   ]
  },
  {
   "cell_type": "code",
   "execution_count": null,
   "id": "178c2fa3-cea9-449c-a1f4-7f3e56be6692",
   "metadata": {},
   "outputs": [],
   "source": [
    "# calculate the percentage of your 10th mark"
   ]
  },
  {
   "cell_type": "code",
   "execution_count": 15,
   "id": "972b0cd0-fb9d-4d41-a802-d8fc9853c871",
   "metadata": {},
   "outputs": [],
   "source": [
    "def percentage():\n",
    "    Subject1 =int(input(\"Subject1= \"))\n",
    "    Subject2 =int(input(\"Subject2= \"))\n",
    "    Subject3 =int(input(\"Subject3= \"))\n",
    "    Subject4 =int(input(\"Subject4= \"))\n",
    "    Subject5 =int(input(\"Subject5= \"))\n",
    "    Total = Subject1+Subject2+Subject3+Subject4+Subject5\n",
    "    print(\"Total :\" ,Total)\n",
    "    Percentage= (Total)/5\n",
    "    print(Percentage)\n",
    "            "
   ]
  },
  {
   "cell_type": "code",
   "execution_count": 16,
   "id": "938cd025-fd0f-4ccd-ab2a-b601b5090ea3",
   "metadata": {},
   "outputs": [
    {
     "name": "stdin",
     "output_type": "stream",
     "text": [
      "Subject1=  98\n",
      "Subject2=  87\n",
      "Subject3=  95\n",
      "Subject4=  95\n",
      "Subject5=  93\n"
     ]
    },
    {
     "name": "stdout",
     "output_type": "stream",
     "text": [
      "Total : 468\n",
      "93.6\n"
     ]
    }
   ],
   "source": [
    "percentage()"
   ]
  },
  {
   "cell_type": "code",
   "execution_count": 18,
   "id": "1225aa1b-a63c-4576-9e6c-815a78cc4ef0",
   "metadata": {},
   "outputs": [],
   "source": [
    "# print area and perimeter of triangle using class and functions"
   ]
  },
  {
   "cell_type": "code",
   "execution_count": 21,
   "id": "5d3cf3b7-d2de-45d3-ba0f-d2946403019e",
   "metadata": {},
   "outputs": [],
   "source": [
    "class  triangle:\n",
    "    def triangle():\n",
    "        Height = int(input(\"Height: \"))\n",
    "        Breadth = int(input(\"Breadth: \"))\n",
    "        print(\"Area formula: Height*Breadth)/2\")\n",
    "        print(\"Area of Triangle:\" ,(0.5*Breadth*Height))\n",
    "        Height1 = int(input(\"Height1: \"))\n",
    "        Height2 = int(input(\"Height2: \"))\n",
    "        Breadth1 = int(input(\"Breadth: \"))\n",
    "        Perimeter_formula=Height1+Height2+Breadth1\n",
    "        print(\"Perimeter formula: Height1+Height2+Breadth1\")\n",
    "        print(\"Perimeter of Triangle: \",Perimeter_formula)"
   ]
  },
  {
   "cell_type": "code",
   "execution_count": 22,
   "id": "79e4b490-4393-46d1-8054-217de2d16267",
   "metadata": {},
   "outputs": [
    {
     "name": "stdin",
     "output_type": "stream",
     "text": [
      "Height:  32\n",
      "Breadth:  34\n"
     ]
    },
    {
     "name": "stdout",
     "output_type": "stream",
     "text": [
      "Area formula: Height*Breadth)/2\n",
      "Area of Triangle: 544.0\n"
     ]
    },
    {
     "name": "stdin",
     "output_type": "stream",
     "text": [
      "Height1:  2\n",
      "Height2:  4\n",
      "Breadth:  4\n"
     ]
    },
    {
     "name": "stdout",
     "output_type": "stream",
     "text": [
      "Perimeter formula: Height1+Height2+Breadth1\n",
      "Perimeter of Triangle:  10\n"
     ]
    }
   ],
   "source": [
    "triangle.triangle()"
   ]
  },
  {
   "cell_type": "code",
   "execution_count": null,
   "id": "021b209e-e6f1-4660-9c44-44f85c421e47",
   "metadata": {},
   "outputs": [],
   "source": []
  }
 ],
 "metadata": {
  "kernelspec": {
   "display_name": "Python 3 (ipykernel)",
   "language": "python",
   "name": "python3"
  },
  "language_info": {
   "codemirror_mode": {
    "name": "ipython",
    "version": 3
   },
   "file_extension": ".py",
   "mimetype": "text/x-python",
   "name": "python",
   "nbconvert_exporter": "python",
   "pygments_lexer": "ipython3",
   "version": "3.12.5"
  }
 },
 "nbformat": 4,
 "nbformat_minor": 5
}
